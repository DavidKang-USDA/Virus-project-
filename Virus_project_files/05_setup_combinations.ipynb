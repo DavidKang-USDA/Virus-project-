{
 "cells": [
  {
   "cell_type": "markdown",
   "metadata": {},
   "source": [
    "Note:\n",
    "\n",
    "I've included some code for the second paper here. The core problem is that we have a lot of combinations of data / data processing/ and models to run. _At minimum_ we're looking at: \n",
    "\n",
    "$5\\ species * 6\\ contig\\ lengths * 6\\ kmer\\ lengths = 180\\ combinations$. \n",
    "\n",
    "To run _default knn_ for each across 5 folds we're looking at 900 models. Add 16 cycles of hyperparmeter tuning and we're at 14,400 models. The workaround is to use one fold for hyperparmeter tuning and then evaluate across folds. \n",
    "\n",
    "At some point we'll need to think about moving computation to a HPC and making sure it's easy to run many, many jobs concurrently. "
   ]
  },
  {
   "cell_type": "code",
   "execution_count": null,
   "metadata": {},
   "outputs": [],
   "source": [
    "import itertools"
   ]
  },
  {
   "cell_type": "code",
   "execution_count": null,
   "metadata": {},
   "outputs": [],
   "source": [
    "options_tune = {\n",
    "    'target_label': ['Drosophila_melanogaster',  'Glycine_max',  'Spodoptera_frugiperda',  'Vitis_vinifera',  'Zea_mays'],\n",
    "    'BasePair': ['500', '1000', '3000', '5000', '10000', 'genome'],\n",
    "    'model_type': ['knn'],\n",
    "    # 'model_type': ['knn', 'bknn', 'rnr', 'brf', 'rf', 'svml', 'svmr', 'lr', 'hgb'],\n",
    "    'kmer': [i for i in range(1, 7)],\n",
    "    # 'fold': [i for i in range(5)]\n",
    "    'fold': [0]\n",
    "}\n",
    "options_train = options_tune.copy()\n",
    "options_train['fold'] = [i for i in range(5)]\n",
    "# options_train['model_type'].append(['GNBC'])"
   ]
  },
  {
   "cell_type": "code",
   "execution_count": null,
   "metadata": {},
   "outputs": [],
   "source": [
    "o = options_tune\n",
    "\n",
    "cmds = [f\"python 03_tune_model.py --model_type '{e[0]}' --target_label '{e[1]}' --kmer {e[2]}  --BasePair '{e[3]}' --cv_fold {e[4]}  --cv_mode 'tuning' --k_job 30 --tuning_iterations 16\"\n",
    " for e in itertools.product(\n",
    "    o['model_type'],\n",
    "    o['target_label'], \n",
    "    o['kmer'],\n",
    "    o['BasePair'],\n",
    "    o['fold'],\n",
    "    )]\n",
    "len(cmds)"
   ]
  },
  {
   "cell_type": "code",
   "execution_count": null,
   "metadata": {},
   "outputs": [],
   "source": [
    "cmds = ' && \\n'.join(cmds)\n",
    "\n",
    "with open('./03_tune_model.sh', 'w') as f:\n",
    "    f.writelines(cmds)"
   ]
  },
  {
   "cell_type": "code",
   "execution_count": null,
   "metadata": {},
   "outputs": [],
   "source": [
    "o = options_train\n",
    "\n",
    "cmds = [f\"python 04_train_model.py --model_type '{e[0]}' --target_label '{e[1]}' --kmer {e[2]}  --BasePair '{e[3]}' --cv_fold {e[4]}  --cv_mode 'training' --k_job 30\"\n",
    " for e in itertools.product(\n",
    "    o['model_type'],\n",
    "    o['target_label'], \n",
    "    o['kmer'],\n",
    "    o['BasePair'],\n",
    "    o['fold'],\n",
    "    )]\n",
    "len(cmds)"
   ]
  },
  {
   "cell_type": "code",
   "execution_count": null,
   "metadata": {},
   "outputs": [],
   "source": [
    "cmds = ' && \\n'.join(cmds)\n",
    "\n",
    "with open('./04_train_model.sh', 'w') as f:\n",
    "    f.writelines(cmds)"
   ]
  }
 ],
 "metadata": {
  "kernelspec": {
   "display_name": "vp",
   "language": "python",
   "name": "python3"
  },
  "language_info": {
   "name": "python",
   "version": "3.6.13"
  }
 },
 "nbformat": 4,
 "nbformat_minor": 2
}
